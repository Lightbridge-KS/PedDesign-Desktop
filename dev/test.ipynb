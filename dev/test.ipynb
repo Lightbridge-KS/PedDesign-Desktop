{
 "cells": [
  {
   "cell_type": "markdown",
   "metadata": {},
   "source": [
    "# Testing PKG"
   ]
  },
  {
   "cell_type": "code",
   "execution_count": 52,
   "metadata": {},
   "outputs": [],
   "source": [
    "import sys\n",
    "from pathlib import Path\n",
    "sys.path.insert(1, str(Path.cwd())) # add `.parent` to roll back to Proj Root\n",
    "# sys.path.insert(1, str(Path.cwd().parent / 'src')) # To subdir\n",
    "# print(sys.path)\n",
    "import peddesign\n"
   ]
  },
  {
   "cell_type": "markdown",
   "metadata": {},
   "source": [
    "## TODO\n",
    "\n",
    "- Implement HRCT\n",
    "- Implement input delay time in CTWA and CT Chest + WA\n",
    "- Move peddesign out of this repo, consider\n",
    "    - test: venv path in Win\n",
    "    - test: install dev pkg in Win"
   ]
  },
  {
   "cell_type": "markdown",
   "metadata": {},
   "source": [
    "## Design CT (General)"
   ]
  },
  {
   "cell_type": "code",
   "execution_count": 53,
   "metadata": {},
   "outputs": [
    {
     "name": "stdout",
     "output_type": "stream",
     "text": [
      "-- Design CT --\n",
      "CT chest, venous only\n",
      "Body weight: 10 kg\n",
      "kV: 80\n",
      "mA: auto\n",
      "Noise index: 20\n",
      "Delay: 45 sec\n",
      "Contrast: 10 ml (1 ml/kg * 10 kg = 10)\n",
      "Rate: 0.9 ml/sec (10 + 15) / 30 = 0.833\n",
      "---\n",
      "\n"
     ]
    }
   ],
   "source": [
    "peddesign.design_ct(\"chest\", 10, is_first_study=False)"
   ]
  }
 ],
 "metadata": {
  "kernelspec": {
   "display_name": "Python 3",
   "language": "python",
   "name": "python3"
  },
  "language_info": {
   "codemirror_mode": {
    "name": "ipython",
    "version": 3
   },
   "file_extension": ".py",
   "mimetype": "text/x-python",
   "name": "python",
   "nbconvert_exporter": "python",
   "pygments_lexer": "ipython3",
   "version": "3.11.0"
  }
 },
 "nbformat": 4,
 "nbformat_minor": 2
}
